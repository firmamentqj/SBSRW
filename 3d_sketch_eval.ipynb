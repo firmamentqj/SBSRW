{
 "cells": [
  {
   "cell_type": "markdown",
   "id": "8207dfbe",
   "metadata": {},
   "source": [
    "> Try colab version [here](https://colab.research.google.com/drive/1Baon_b4QAE3kL-RpQDbgaFdu9T8rkInH#scrollTo=G2Y24ZE8s0lM)."
   ]
  },
  {
   "cell_type": "code",
   "execution_count": null,
   "id": "80iteQWYYmVi",
   "metadata": {
    "id": "80iteQWYYmVi"
   },
   "outputs": [],
   "source": [
    "import os\n",
    "from time import time\n",
    "import numpy as np\n",
    "from itertools import count\n",
    "from sklearn.metrics import auc as auc_metric\n",
    "\n",
    "def RetrievalEvaluation(distM, model_label, sketch_label):\n",
    "    '''\n",
    "    ## INPUT:\n",
    "    distM: distance matrix\n",
    "    model_label: class labels for 3D model\n",
    "    sketch_label: class labels for 2D sketches\n",
    "\n",
    "    ##OUTPUT:\n",
    "    metrics: NN, FT, ST, DCG, E, mAP, pre, rec, auc\n",
    "    record for visualization (ignored): rankArray\n",
    "    '''\n",
    "    distM=distM\n",
    "    C_sketch = np.zeros((len(sketch_label)), dtype=\"int32\")\n",
    "    for i in range(len(sketch_label)):\n",
    "        C_sketch[i] = np.sum(model_label == sketch_label[i])\n",
    "    C = C_sketch\n",
    "    recall = np.zeros((distM.shape[0], distM.shape[1]))\n",
    "    precision = np.zeros((distM.shape[0], distM.shape[1]))\n",
    "    rankArray = np.zeros((distM.shape[0], distM.shape[1]))\n",
    "\n",
    "    nb_of_query = C.shape[0]\n",
    "    p_points = np.zeros((nb_of_query, np.amax(C)))\n",
    "    ap = np.zeros(nb_of_query)\n",
    "    nn = np.zeros(nb_of_query)\n",
    "    ft = np.zeros(nb_of_query)\n",
    "    st = np.zeros(nb_of_query)\n",
    "    dcg = np.zeros(nb_of_query)\n",
    "    e_measure = np.zeros(nb_of_query)\n",
    "\n",
    "    for qqq in range(nb_of_query):\n",
    "        temp_dist = np.array(distM[qqq])\n",
    "        temp_dist = np.squeeze(temp_dist)\n",
    "        s = list(temp_dist)\n",
    "        R = sorted(range(len(s)), key=lambda k: s[k])\n",
    "\n",
    "        model_label_l = model_label[R]\n",
    "        numRetrieval = distM.shape[1]\n",
    "        G = np.zeros(numRetrieval)\n",
    "        rankArray[qqq] = R\n",
    "\n",
    "        model_label_l = np.squeeze(model_label_l)\n",
    "        for i in range(numRetrieval):\n",
    "            if model_label_l[i] == sketch_label[qqq]:\n",
    "                G[i] = 1\n",
    "        G_sum = np.cumsum(G)\n",
    "        r1 = G_sum / float(C[qqq])\n",
    "        p1 = G_sum / np.arange(1, numRetrieval+1)\n",
    "        r_points = np.zeros(C[qqq])\n",
    "        for i in range(C[qqq]):\n",
    "            temp = np.where(G_sum == i+1)\n",
    "            r_points[i] = np.where(G_sum == (i+1))[0][0] + 1\n",
    "        r_points_int = np.array(r_points, dtype=int)\n",
    "\n",
    "        p_points[qqq][:int(C[qqq])] = G_sum[r_points_int-1] / r_points\n",
    "        ap[qqq] = np.mean(p_points[qqq][:int(C[qqq])])\n",
    "        nn[qqq] = G[0]\n",
    "        ft[qqq] = G_sum[C[qqq]-1] / C[qqq]\n",
    "        st[qqq] = G_sum[min(2*C[qqq]-1, G_sum.size-1)] / C[qqq]\n",
    "        p_32 = G_sum[min(31, G_sum.size-1)] / min(32, G_sum.size)\n",
    "        r_32 = G_sum[min(31, G_sum.size-1)] / C[qqq]\n",
    "        if p_32 == 0 and r_32 == 0:\n",
    "            e_measure[qqq] = 0\n",
    "        else:\n",
    "            e_measure[qqq] = 2* p_32 * r_32/(p_32+r_32)\n",
    "\n",
    "        NORM_VALUE = 1 + np.sum(1/np.log2(np.arange(2,C[qqq]+1)))\n",
    "        dcg_i = 1/np.log2(np.arange(2, len(R)+1)) * G[1:]\n",
    "        dcg_i = np.insert(dcg_i, 0, G[0])\n",
    "        dcg[qqq] = np.sum(dcg_i, axis=0)/NORM_VALUE\n",
    "        recall[qqq] = r1\n",
    "        precision[qqq] = p1\n",
    "\n",
    "\n",
    "    nn_av = np.mean(nn)\n",
    "    ft_av = np.mean(ft)\n",
    "    st_av = np.mean(st)\n",
    "    dcg_av = np.mean(dcg)\n",
    "    e_av = np.mean(e_measure)\n",
    "    map_ = np.mean(ap)\n",
    "\n",
    "    pre = np.mean(precision, axis=0)\n",
    "    rec = np.mean(recall, axis=0)\n",
    "    auc = auc_metric(rec, pre)\n",
    "\n",
    "    return nn_av, ft_av, st_av, dcg_av, e_av, map_, p_points, pre, rec, auc, rankArray"
   ]
  },
  {
   "cell_type": "markdown",
   "id": "bd20ffe4",
   "metadata": {},
   "source": [
    "## Evaluation"
   ]
  },
  {
   "cell_type": "code",
   "execution_count": null,
   "id": "8a810efb",
   "metadata": {},
   "outputs": [],
   "source": [
    "# Put your results here\n",
    "distM_filenames = [\n",
    "    '/content/drive/MyDrive/MaoJuXiWu/sketch_3d_eval/evaluation/team_4_HIT/submission/Task 1/task1.npy',\n",
    "]"
   ]
  },
  {
   "cell_type": "code",
   "execution_count": null,
   "id": "QuqUuD14VCcp",
   "metadata": {
    "colab": {
     "base_uri": "https://localhost:8080/"
    },
    "id": "QuqUuD14VCcp",
    "outputId": "35c42038-657b-464a-d9cf-50fdc0657a28"
   },
   "outputs": [
    {
     "name": "stdout",
     "output_type": "stream",
     "text": [
      "distM.shape: (23992, 12000)\n",
      "lbl_model.shape: (12000,)\n",
      "lbl_sketch.shape: (23992,)\n",
      "distM_file: /content/drive/MyDrive/MaoJuXiWu/sketch_3d_eval/evaluation/team_4_HIT/submission/Task 1/task1.npy\n",
      "time consuming: 351.3757801055908s.\n",
      "\n",
      "nn_av: 0.010795265088362788\n",
      "ft_av: 0.015414028092297699\n",
      "st_av: 0.03098713202612801\n",
      "dcg_av: 0.3628591862434631\n",
      "e_av: 0.0010532518669274613\n",
      "map_: 0.020477612465387533\n",
      "\n",
      "p_points:\n",
      " [[1.34770889e-03 1.60000000e-03 2.04081633e-03 ... 0.00000000e+00\n",
      "  0.00000000e+00 0.00000000e+00]\n",
      " [5.00000000e-01 6.66666667e-01 5.00000000e-01 ... 0.00000000e+00\n",
      "  0.00000000e+00 0.00000000e+00]\n",
      " [1.11111111e-02 7.40740741e-03 8.02139037e-03 ... 0.00000000e+00\n",
      "  0.00000000e+00 0.00000000e+00]\n",
      " ...\n",
      " [5.40540541e-04 8.05801773e-04 6.82438581e-04 ... 0.00000000e+00\n",
      "  0.00000000e+00 0.00000000e+00]\n",
      " [3.02938503e-04 5.43478261e-04 5.71210967e-04 ... 0.00000000e+00\n",
      "  0.00000000e+00 0.00000000e+00]\n",
      " [7.87401575e-04 9.57854406e-04 1.20385233e-03 ... 0.00000000e+00\n",
      "  0.00000000e+00 0.00000000e+00]]\n",
      "pre:\n",
      " [0.01079527 0.01508836 0.0165194  ... 0.01949106 0.01949177 0.01949249]\n",
      "rec:\n",
      " [5.55883887e-06 2.12777849e-05 3.69967310e-05 ... 9.99886663e-01\n",
      " 9.99943331e-01 1.00000000e+00]\n",
      "auc: 0.01828703224524753\n",
      "\n",
      "rankArray:\n",
      " [[ 5273.  2266.  9043. ...  7214. 11199. 11565.]\n",
      " [ 5273.  2266.  9043. ...  7214. 11199. 11565.]\n",
      " [ 5273.  2266.  9043. ...  7214. 11199. 11565.]\n",
      " ...\n",
      " [ 5273.  2266.  9043. ...  7214. 11199. 11565.]\n",
      " [ 5273.  2266.  9043. ...  7214. 11199. 11565.]\n",
      " [ 5273.  2266.  9043. ...  7214. 11199. 11565.]]\n",
      "\n"
     ]
    }
   ],
   "source": [
    "# Task1: CAD, Task2: Wild\n",
    "\n",
    "for distM_filename in distM_filenames:\n",
    "    task_type = distM_filename.split('submission/Task')[-1].split('/')[0].split('v')[0]\n",
    "    if '1' in task_type:\n",
    "        gt_type = 'CAD'\n",
    "    else:\n",
    "        gt_type = 'WILD'\n",
    "\n",
    "    save_dir = distM_filename.split('/submission')[0].replace('evaluation/', 'evaluation_check/')\n",
    "    distM_file = '{}'.format(distM_filename)\n",
    "    distM_filename = distM_filename.split('submission/')[-1].replace('/', '--')[:-4]\n",
    "    try:\n",
    "        distM = np.load(distM_file)\n",
    "    except:\n",
    "        distM = np.loadtxt(distM_file)\n",
    "\n",
    "    # Put the ground truth files here.\n",
    "    lbl_model = np.loadtxt('/content/drive/MyDrive/MaoJuXiWu/sketch_3d_eval/{}_gt.npy'.format(gt_type))\n",
    "    lbl_sketch = np.loadtxt('/content/drive/MyDrive/MaoJuXiWu/sketch_3d_eval/{}_sketch_gt.npy'.format(gt_type))\n",
    "    print('distM.shape:', distM.shape)\n",
    "    print('lbl_model.shape:', lbl_model.shape)\n",
    "    print('lbl_sketch.shape:', lbl_sketch.shape)\n",
    "\n",
    "\n",
    "    time_st = time()\n",
    "\n",
    "    nn_av, ft_av, st_av, dcg_av, e_av, map_, p_points, pre, rec, auc, rankArray = RetrievalEvaluation(distM, lbl_model, lbl_sketch)\n",
    "\n",
    "    info_1 = 'distM_file: {}\\ntime consuming: {}s.\\n'.format(distM_file, time() - time_st)\n",
    "    info_2 = 'nn_av: {}\\nft_av: {}\\nst_av: {}\\ndcg_av: {}\\ne_av: {}\\nmap_: {}\\n'.format(nn_av, ft_av, st_av, dcg_av, e_av, map_)\n",
    "    info_3 = 'auc: {}\\n'.format(auc)\n",
    "    print(info_1)\n",
    "    print(info_2)\n",
    "    print('p_points:\\n', p_points)\n",
    "    print('pre:\\n', pre)\n",
    "    print('rec:\\n', rec)\n",
    "    print(info_3)\n",
    "    print('rankArray:\\n', rankArray)\n",
    "    print()\n",
    "    if not os.path.exists(save_dir):\n",
    "        os.makedirs(save_dir, exist_ok=True)\n",
    "    with open(os.path.join(save_dir, '{}_output.txt').format(distM_filename), 'w') as f:\n",
    "        f.write(info_1 + info_2 + info_3 + '\\n')\n",
    "    np.savetxt(os.path.join(save_dir, '{}_pre.txt'.format(distM_filename)), pre)\n",
    "    np.savetxt(os.path.join(save_dir, '{}_rec.txt'.format(distM_filename)), rec)\n",
    "    if gt_type == 'WILD':\n",
    "        np.save(os.path.join(save_dir, '{}_p_points.npy'.format(distM_filename)), p_points)\n",
    "        np.save(os.path.join(save_dir, '{}_rankArray.npy'.format(distM_filename)), rankArray)\n",
    "    else:\n",
    "        np.save(os.path.join(save_dir, '{}_p_points.npy'.format(distM_filename)), p_points)\n",
    "        np.save(os.path.join(save_dir, '{}_rankArray.npy'.format(distM_filename)), rankArray)"
   ]
  },
  {
   "cell_type": "markdown",
   "id": "ac25eebb",
   "metadata": {},
   "source": [
    "## Visualization"
   ]
  },
  {
   "cell_type": "code",
   "execution_count": null,
   "id": "anlFPcRY4NLA",
   "metadata": {
    "colab": {
     "base_uri": "https://localhost:8080/",
     "height": 556
    },
    "id": "anlFPcRY4NLA",
    "outputId": "e70d3445-93e6-476c-cd0b-7078337dc465"
   },
   "outputs": [
    {
     "data": {
      "image/png": "[encoded data removed]",
      "text/plain": [
       "<Figure size 432x288 with 1 Axes>"
      ]
     },
     "metadata": {
      "needs_background": "light"
     },
     "output_type": "display_data"
    },
    {
     "name": "stdout",
     "output_type": "stream",
     "text": [
      "[[661.30521171 674.58089649 701.44631766 ... 671.16011348 610.2713593\n",
      "  621.51658683]\n",
      " [661.30521171 674.58089649 701.44631766 ... 671.16011348 610.2713593\n",
      "  621.51658683]\n",
      " [661.30521171 674.58089649 701.44631766 ... 671.16011348 610.2713593\n",
      "  621.51658683]\n",
      " ...\n",
      " [661.30521171 674.58089649 701.44631766 ... 671.16011348 610.2713593\n",
      "  621.51658683]\n",
      " [661.30521171 674.58089649 701.44631766 ... 671.16011348 610.2713593\n",
      "  621.51658683]\n",
      " [661.30521171 674.58089649 701.44631766 ... 671.16011348 610.2713593\n",
      "  621.51658683]]\n",
      "np.mean(distM): 610.8459543923993\n",
      "np.median(distM): 623.8316600309759\n"
     ]
    }
   ],
   "source": [
    "# Histgram of result values\n",
    "import matplotlib.pyplot as plt\n",
    "\n",
    "\n",
    "distM_filename = '/content/drive/MyDrive/MaoJuXiWu/sketch_3d_eval/05-22/team_2_pc/submission/Task 2/dist_pc.npz'\n",
    "try:\n",
    "    distM = np.load(distM_filename)\n",
    "except:\n",
    "    distM = np.loadtxt(distM_filename)\n",
    "plt.hist(distM.ravel())\n",
    "plt.title(distM_filename.split('evaluation/')[-1])\n",
    "plt.show()\n",
    "print(distM)\n",
    "print('np.mean(distM):', np.mean(distM))\n",
    "print('np.median(distM):', np.median(distM))"
   ]
  },
  {
   "cell_type": "code",
   "execution_count": null,
   "id": "9LN1ZRCqLk_1",
   "metadata": {
    "id": "9LN1ZRCqLk_1"
   },
   "outputs": [],
   "source": [
    "import numpy as np\n",
    "\n",
    "\n",
    "def read_pr(path_p):\n",
    "    p = np.loadtxt(path_p).squeeze().tolist()\n",
    "    r = np.loadtxt(path_p.replace('_pre.', '_rec.')).squeeze().tolist()\n",
    "    pr_lst = np.array(sorted([[v[0], v[1]] for v in zip(p, r)], key=lambda x: x[1]))\n",
    "    p = pr_lst[:, 0].tolist()\n",
    "    r = pr_lst[:, 1].tolist()\n",
    "    pr_lst = []\n",
    "    x_index = [(x_idx / 100.) for x_idx in range(5, 101, 5)] + [1e5]\n",
    "\n",
    "    idx_x_index = 0\n",
    "    for idx_v, pr_v in enumerate(zip(p, r)):\n",
    "        if idx_v+1 < len(p) and r[idx_v+1] >= x_index[idx_x_index]:\n",
    "            pr_lst.append([pr_v[0], pr_v[1]])\n",
    "            idx_x_index += 1\n",
    "    pr = np.array(pr_lst)\n",
    "    return pr"
   ]
  },
  {
   "cell_type": "code",
   "execution_count": null,
   "id": "6a5a9c1c",
   "metadata": {},
   "outputs": [],
   "source": []
  }
 ],
 "metadata": {
  "colab": {
   "collapsed_sections": [],
   "name": "3d_sketch_eval.ipynb",
   "provenance": []
  },
  "kernelspec": {
   "display_name": "Python 3",
   "language": "python",
   "name": "python3"
  },
  "language_info": {
   "codemirror_mode": {
    "name": "ipython",
    "version": 3
   },
   "file_extension": ".py",
   "mimetype": "text/x-python",
   "name": "python",
   "nbconvert_exporter": "python",
   "pygments_lexer": "ipython3",
   "version": "3.7.10"
  }
 },
 "nbformat": 4,
 "nbformat_minor": 5
}
